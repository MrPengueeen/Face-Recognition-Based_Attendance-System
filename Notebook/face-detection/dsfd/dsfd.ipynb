{
 "cells": [
  {
   "cell_type": "code",
   "execution_count": 20,
   "id": "b9ddb817-c3e4-4b21-8a0b-34070b9f186c",
   "metadata": {},
   "outputs": [
    {
     "name": "stdout",
     "output_type": "stream",
     "text": [
      "['DSFDDetector', 'RetinaNetResNet50', 'RetinaNetMobileNetV1']\n"
     ]
    }
   ],
   "source": [
    "import cv2\n",
    "import face_detection\n",
    "import time\n",
    "print(face_detection.available_detectors)\n",
    "detector = face_detection.build_detector(\n",
    "  \"DSFDDetector\", confidence_threshold=.5, nms_iou_threshold=.3)\n",
    "# BGR to RGB\n",
    "im = cv2.imread(\"./Test-Images/group_image2.jpg\")[:, :, ::-1]\n",
    "start = time.time()\n",
    "detections = detector.detect(im)"
   ]
  },
  {
   "cell_type": "code",
   "execution_count": 21,
   "id": "14fb54e2-cc54-4a6d-8f28-f2aab31caf21",
   "metadata": {},
   "outputs": [
    {
     "name": "stdout",
     "output_type": "stream",
     "text": [
      "8.686689853668213\n"
     ]
    },
    {
     "data": {
      "text/plain": [
       "-1"
      ]
     },
     "execution_count": 21,
     "metadata": {},
     "output_type": "execute_result"
    }
   ],
   "source": [
    "import numpy as np\n",
    "im = np.copy(im)\n",
    "for face in detections:\n",
    "    xmin = int(face[0])\n",
    "    ymin = int(face[1])\n",
    "    xmax = int(face[2])\n",
    "    ymax = int(face[3])\n",
    "    cv2.rectangle(im, (xmin, ymin), (xmax, ymax), color=(255,0,0), thickness=2)\n",
    "end = time.time()\n",
    "print(end-start)\n",
    "cv2.imshow('Detected.png', im)\n",
    "cv2.waitKey(0)"
   ]
  }
 ],
 "metadata": {
  "kernelspec": {
   "display_name": "Python 3 (ipykernel)",
   "language": "python",
   "name": "python3"
  },
  "language_info": {
   "codemirror_mode": {
    "name": "ipython",
    "version": 3
   },
   "file_extension": ".py",
   "mimetype": "text/x-python",
   "name": "python",
   "nbconvert_exporter": "python",
   "pygments_lexer": "ipython3",
   "version": "3.10.4"
  }
 },
 "nbformat": 4,
 "nbformat_minor": 5
}
