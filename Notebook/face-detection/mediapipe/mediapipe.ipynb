{
 "cells": [
  {
   "cell_type": "code",
   "execution_count": 1,
   "id": "359664aa",
   "metadata": {},
   "outputs": [
    {
     "name": "stdout",
     "output_type": "stream",
     "text": [
      "Requirement already satisfied: mediapipe in c:\\users\\aonmo\\appdata\\roaming\\python\\python311\\site-packages (0.10.9)\n",
      "Requirement already satisfied: absl-py in c:\\users\\aonmo\\anaconda3\\lib\\site-packages (from mediapipe) (2.0.0)\n",
      "Requirement already satisfied: attrs>=19.1.0 in c:\\users\\aonmo\\anaconda3\\lib\\site-packages (from mediapipe) (22.1.0)\n",
      "Requirement already satisfied: flatbuffers>=2.0 in c:\\users\\aonmo\\anaconda3\\lib\\site-packages (from mediapipe) (23.5.26)\n",
      "Requirement already satisfied: matplotlib in c:\\users\\aonmo\\anaconda3\\lib\\site-packages (from mediapipe) (3.7.2)\n",
      "Requirement already satisfied: numpy in c:\\users\\aonmo\\anaconda3\\lib\\site-packages (from mediapipe) (1.24.3)\n",
      "Requirement already satisfied: opencv-contrib-python in c:\\users\\aonmo\\appdata\\roaming\\python\\python311\\site-packages (from mediapipe) (4.9.0.80)\n",
      "Requirement already satisfied: protobuf<4,>=3.11 in c:\\users\\aonmo\\anaconda3\\lib\\site-packages (from mediapipe) (3.20.3)\n",
      "Requirement already satisfied: sounddevice>=0.4.4 in c:\\users\\aonmo\\appdata\\roaming\\python\\python311\\site-packages (from mediapipe) (0.4.6)\n",
      "Requirement already satisfied: CFFI>=1.0 in c:\\users\\aonmo\\anaconda3\\lib\\site-packages (from sounddevice>=0.4.4->mediapipe) (1.15.1)\n",
      "Requirement already satisfied: contourpy>=1.0.1 in c:\\users\\aonmo\\anaconda3\\lib\\site-packages (from matplotlib->mediapipe) (1.0.5)\n",
      "Requirement already satisfied: cycler>=0.10 in c:\\users\\aonmo\\anaconda3\\lib\\site-packages (from matplotlib->mediapipe) (0.11.0)\n",
      "Requirement already satisfied: fonttools>=4.22.0 in c:\\users\\aonmo\\anaconda3\\lib\\site-packages (from matplotlib->mediapipe) (4.25.0)\n",
      "Requirement already satisfied: kiwisolver>=1.0.1 in c:\\users\\aonmo\\anaconda3\\lib\\site-packages (from matplotlib->mediapipe) (1.4.4)\n",
      "Requirement already satisfied: packaging>=20.0 in c:\\users\\aonmo\\anaconda3\\lib\\site-packages (from matplotlib->mediapipe) (23.1)\n",
      "Requirement already satisfied: pillow>=6.2.0 in c:\\users\\aonmo\\anaconda3\\lib\\site-packages (from matplotlib->mediapipe) (9.4.0)\n",
      "Requirement already satisfied: pyparsing<3.1,>=2.3.1 in c:\\users\\aonmo\\anaconda3\\lib\\site-packages (from matplotlib->mediapipe) (3.0.9)\n",
      "Requirement already satisfied: python-dateutil>=2.7 in c:\\users\\aonmo\\anaconda3\\lib\\site-packages (from matplotlib->mediapipe) (2.8.2)\n",
      "Requirement already satisfied: pycparser in c:\\users\\aonmo\\anaconda3\\lib\\site-packages (from CFFI>=1.0->sounddevice>=0.4.4->mediapipe) (2.21)\n",
      "Requirement already satisfied: six>=1.5 in c:\\users\\aonmo\\anaconda3\\lib\\site-packages (from python-dateutil>=2.7->matplotlib->mediapipe) (1.16.0)\n"
     ]
    }
   ],
   "source": [
    "!pip install mediapipe --user"
   ]
  },
  {
   "cell_type": "code",
   "execution_count": 16,
   "id": "d8d0c4b3",
   "metadata": {},
   "outputs": [
    {
     "name": "stdout",
     "output_type": "stream",
     "text": [
      "[label_id: 0\n",
      "score: 0.66687465\n",
      "location_data {\n",
      "  format: RELATIVE_BOUNDING_BOX\n",
      "  relative_bounding_box {\n",
      "    xmin: 0.5177153\n",
      "    ymin: 0.52329373\n",
      "    width: 0.04825294\n",
      "    height: 0.06560844\n",
      "  }\n",
      "  relative_keypoints {\n",
      "    x: 0.54201716\n",
      "    y: 0.5432349\n",
      "  }\n",
      "  relative_keypoints {\n",
      "    x: 0.5513466\n",
      "    y: 0.5596474\n",
      "  }\n",
      "  relative_keypoints {\n",
      "    x: 0.53583294\n",
      "    y: 0.5585961\n",
      "  }\n",
      "  relative_keypoints {\n",
      "    x: 0.5281341\n",
      "    y: 0.56957436\n",
      "  }\n",
      "  relative_keypoints {\n",
      "    x: 0.53635114\n",
      "    y: 0.54225326\n",
      "  }\n",
      "  relative_keypoints {\n",
      "    x: 0.5629228\n",
      "    y: 0.5806116\n",
      "  }\n",
      "}\n",
      "]\n"
     ]
    }
   ],
   "source": [
    "import mediapipe as mp\n",
    "import cv2\n",
    "\n",
    "img = cv2.imread('./Test-Images/classroom.jpg')\n",
    "# img - cv2.resize(img, (600, 600), interpolation = cv2.INTER_NEAREST)\n",
    "\n",
    "mp_face_detection = mp.solutions.face_detection\n",
    "mp_drawing = mp.solutions.drawing_utils\n",
    "\n",
    "with mp_face_detection.FaceDetection(model_selection=1, min_detection_confidence=0.5) as face_detection:\n",
    "    results = face_detection.process(cv2.cvtColor(img, cv2.COLOR_BGR2RGB))\n",
    "    annotated_image = img.copy()\n",
    "    print(results.detections)\n",
    "    for i, detection in enumerate(results.detections):\n",
    "        box = detection.location_data.relative_bounding_box\n",
    "        xmin, ymin = int(box.xmin * img.shape[1]), int(box.ymin * img.shape[0])\n",
    "        xmax, ymax = int((box.xmin + box.width) * img.shape[1]), int((box.ymin + box.height) * img.shape[0])\n",
    "        annotated_image = cv2.rectangle(img, (xmin, ymin), (xmax, ymax), (0, 255, 255), 3)\n",
    "    \n",
    "    cv2.imshow(\"detected_faces.jpg\", annotated_image)\n",
    "    cv2.waitKey(0)\n",
    "        "
   ]
  }
 ],
 "metadata": {
  "kernelspec": {
   "display_name": "Python 3 (ipykernel)",
   "language": "python",
   "name": "python3"
  },
  "language_info": {
   "codemirror_mode": {
    "name": "ipython",
    "version": 3
   },
   "file_extension": ".py",
   "mimetype": "text/x-python",
   "name": "python",
   "nbconvert_exporter": "python",
   "pygments_lexer": "ipython3",
   "version": "3.11.5"
  }
 },
 "nbformat": 4,
 "nbformat_minor": 5
}
