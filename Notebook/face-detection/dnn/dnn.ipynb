{
 "cells": [
  {
   "cell_type": "code",
   "execution_count": 2,
   "id": "30205b76-d576-4519-bb21-58da06704a70",
   "metadata": {},
   "outputs": [
    {
     "name": "stdout",
     "output_type": "stream",
     "text": [
      "Requirement already satisfied: numpy in c:\\users\\aonmo\\appdata\\local\\programs\\python\\python310\\lib\\site-packages (1.26.3)\n"
     ]
    }
   ],
   "source": [
    "!pip install numpy"
   ]
  },
  {
   "cell_type": "code",
   "execution_count": 12,
   "id": "d552def6-8bb1-48e0-9272-cc1160b19b07",
   "metadata": {},
   "outputs": [
    {
     "data": {
      "text/plain": [
       "-1"
      ]
     },
     "execution_count": 12,
     "metadata": {},
     "output_type": "execute_result"
    }
   ],
   "source": [
    "import cv2\n",
    "import numpy as np\n",
    "\n",
    "# Load the DNN Face Detector model\n",
    "face_detector = cv2.dnn.readNetFromCaffe(\"deploy.prototxt.txt\", \"res10_300x300_ssd_iter_140000.caffemodel\")\n",
    "\n",
    "# Read the input image\n",
    "\n",
    "image = cv2.imread(\"./Test-Images/group_image.jpg\")\n",
    "\n",
    "# Get the height and width of the input image\n",
    "(h, w) = image.shape[:2]\n",
    "\n",
    "# Preprocess the image by resizing it and converting it to a blob\n",
    "blob = cv2.dnn.blobFromImage(cv2.resize(image, (300, 300)), 1.0, (300, 300), (104.0, 177.0, 123.0))\n",
    "\n",
    "# Feed the blob as input to the DNN Face Detector model\n",
    "face_detector.setInput(blob)\n",
    "detections = face_detector.forward()\n",
    "\n",
    "# Loop over the detections and draw a rectangle around each face\n",
    "for i in range(0, detections.shape[2]):\n",
    "    confidence = detections[0, 0, i, 2]\n",
    "\n",
    "    # Filter out weak detections\n",
    "    if confidence > 0.4:\n",
    "        # Get the bounding box for the face\n",
    "        box = detections[0, 0, i, 3:7] * np.array([w, h, w, h])\n",
    "        (startX, startY, endX, endY) = box.astype(\"int\")\n",
    "\n",
    "        # Draw a rectangle around the face\n",
    "        cv2.rectangle(image, (startX, startY), (endX, endY), (0, 0, 255), 2)\n",
    "\n",
    "# Show the output image\n",
    "cv2.imshow(\"Output\", image) #To run in Google Colab, comment out this line Colab notebook\n",
    "#cv2_imshow(image) #To run in Google Colab, uncomment this line\n",
    "cv2.waitKey(0)\n"
   ]
  }
 ],
 "metadata": {
  "kernelspec": {
   "display_name": "Python 3 (ipykernel)",
   "language": "python",
   "name": "python3"
  },
  "language_info": {
   "codemirror_mode": {
    "name": "ipython",
    "version": 3
   },
   "file_extension": ".py",
   "mimetype": "text/x-python",
   "name": "python",
   "nbconvert_exporter": "python",
   "pygments_lexer": "ipython3",
   "version": "3.10.4"
  }
 },
 "nbformat": 4,
 "nbformat_minor": 5
}
