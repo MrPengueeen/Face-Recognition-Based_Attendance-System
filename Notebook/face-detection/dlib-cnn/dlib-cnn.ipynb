{
 "cells": [
  {
   "cell_type": "code",
   "execution_count": 9,
   "id": "245ad0d1-65e9-4be7-937a-4cc1441097b1",
   "metadata": {},
   "outputs": [
    {
     "name": "stdout",
     "output_type": "stream",
     "text": [
      "Total faces detected: 0\n",
      "Total time taken: 14.487 seconds.\n",
      "FPS: 0.069\n"
     ]
    },
    {
     "data": {
      "text/plain": [
       "-1"
      ]
     },
     "execution_count": 9,
     "metadata": {},
     "output_type": "execute_result"
    }
   ],
   "source": [
    "import dlib\n",
    "import argparse\n",
    "import cv2\n",
    "import time\n",
    "\n",
    "def process_boxes(box):\n",
    "    xmin = box.rect.left()\n",
    "    ymin = box.rect.top()\n",
    "    xmax = box.rect.right()\n",
    "    ymax = box.rect.bottom()\n",
    "    return [int(xmin), int(ymin), int(xmax), int(ymax)]\n",
    "\n",
    "image = cv2.imread('./Test-Images/group_image2.jpg')\n",
    "image_rgb = cv2.cvtColor(image, cv2.COLOR_BGR2RGB)\n",
    "\n",
    "# initilaize the Dlib face detector\n",
    "detector = dlib.cnn_face_detection_model_v1('./detection-model/mmod_human_face_detector.dat')\n",
    "\n",
    "start = time.time()\n",
    "detected_boxes = detector(image_rgb, 0)\n",
    "end = time.time()\n",
    "\n",
    "# process the detection boxes and draw them around faces\n",
    "for box in detected_boxes:\n",
    "    res_box = process_boxes(box)\n",
    "    cv2.rectangle(image, (res_box[0], res_box[1]),\n",
    "                  (res_box[2], res_box[3]), (0, 255, 0), \n",
    "                  2)\n",
    "cv2.imshow('Result', image)\n",
    "print(f\"Total faces detected: {len(detected_boxes)}\")\n",
    "print(f\"Total time taken: {end-start:.3f} seconds.\")\n",
    "print(f\"FPS: {1/(end-start):.3f}\")\n",
    "cv2.waitKey(0)\n",
    "\n"
   ]
  }
 ],
 "metadata": {
  "kernelspec": {
   "display_name": "Python 3 (ipykernel)",
   "language": "python",
   "name": "python3"
  },
  "language_info": {
   "codemirror_mode": {
    "name": "ipython",
    "version": 3
   },
   "file_extension": ".py",
   "mimetype": "text/x-python",
   "name": "python",
   "nbconvert_exporter": "python",
   "pygments_lexer": "ipython3",
   "version": "3.10.4"
  }
 },
 "nbformat": 4,
 "nbformat_minor": 5
}
